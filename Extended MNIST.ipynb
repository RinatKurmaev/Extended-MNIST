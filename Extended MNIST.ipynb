{
 "cells": [
  {
   "cell_type": "code",
   "execution_count": 58,
   "id": "d0bf9601",
   "metadata": {},
   "outputs": [],
   "source": [
    "import numpy as np\n",
    "# Load training data\n",
    "data = np.load('emnist-byclass-train.npz')\n",
    "train_labels = data['training_labels']\n",
    "train_data = data['training_images']\n",
    "\n",
    "# Load testing data\n",
    "test_data = np.load('emnist-byclass-test.npz')['testing_images']"
   ]
  },
  {
   "cell_type": "code",
   "execution_count": 59,
   "id": "cd86bb73",
   "metadata": {},
   "outputs": [],
   "source": [
    "import torch\n",
    "\n",
    "# Shuffle the data and labels\n",
    "indices = np.random.permutation(len(train_data))\n",
    "train_data = train_data[indices]\n",
    "train_labels = train_labels[indices]\n",
    "\n",
    "# Define the percentage of data to be used for validation\n",
    "val_percent = 0.2\n",
    "\n",
    "# Calculate the number of validation samples\n",
    "val_size = int(len(train_data) * val_percent)\n",
    "\n",
    "# Split the data and labels into training and validation sets\n",
    "val_data = train_data[:val_size]\n",
    "train_data = train_data[val_size:]\n",
    "val_labels = train_labels[:val_size]\n",
    "train_labels = train_labels[val_size:]\n",
    "\n",
    "# Convert the data and labels to PyTorch tensors\n",
    "train_data = torch.from_numpy(train_data).float()\n",
    "val_data = torch.from_numpy(val_data).float()\n",
    "train_labels = torch.from_numpy(train_labels).long()\n",
    "val_labels = torch.from_numpy(val_labels).long()"
   ]
  },
  {
   "cell_type": "code",
   "execution_count": 89,
   "id": "aa145026",
   "metadata": {},
   "outputs": [
    {
     "name": "stdout",
     "output_type": "stream",
     "text": [
      "torch.Size([28, 28, 1])\n",
      "torch.Size([28, 28, 1])\n",
      "torch.Size([28, 28, 1])\n",
      "torch.Size([28, 28, 1])\n"
     ]
    },
    {
     "data": {
      "image/png": "[encoded data removed]",
      "text/plain": [
       "<Figure size 1000x400 with 4 Axes>"
      ]
     },
     "metadata": {},
     "output_type": "display_data"
    }
   ],
   "source": [
    "import matplotlib.pyplot as plt\n",
    "\n",
    "indices = [0, 1, 2, 25]\n",
    "\n",
    "# create a figure with subplots\n",
    "fig, axs = plt.subplots(1, len(indices), figsize=(10, 4))\n",
    "fig.suptitle('Samples from Train Data')\n",
    "\n",
    "# plot each sample\n",
    "for i, idx in enumerate(indices):\n",
    "    axs[i].imshow(train_data[idx,:,:,0].reshape(28,28), cmap='gray')\n",
    "    axs[i].set_title('Label: {}'.format(int(train_labels[idx])))\n",
    "    print(train_data[idx].shape)\n",
    "plt.show()"
   ]
  },
  {
   "cell_type": "code",
   "execution_count": 69,
   "id": "f5448fb8",
   "metadata": {},
   "outputs": [
    {
     "name": "stdout",
     "output_type": "stream",
     "text": [
      "Using cpu device\n"
     ]
    }
   ],
   "source": [
    "device = \"cuda\" if torch.cuda.is_available() else \"cpu\"\n",
    "print(f\"Using {device} device\")"
   ]
  },
  {
   "cell_type": "code",
   "execution_count": 70,
   "id": "e73214f8",
   "metadata": {},
   "outputs": [],
   "source": [
    "import os\n",
    "#import torch\n",
    "from torch import nn\n",
    "from torch.utils.data import DataLoader\n",
    "from torchvision import datasets, transforms"
   ]
  },
  {
   "cell_type": "code",
   "execution_count": 71,
   "id": "16fb8695",
   "metadata": {},
   "outputs": [],
   "source": [
    "number_of_symbols = int(max(train_labels))+1"
   ]
  },
  {
   "cell_type": "code",
   "execution_count": 72,
   "id": "aecc7635",
   "metadata": {},
   "outputs": [
    {
     "name": "stdout",
     "output_type": "stream",
     "text": [
      "62\n"
     ]
    }
   ],
   "source": [
    "print(number_of_symbols)"
   ]
  },
  {
   "cell_type": "code",
   "execution_count": 260,
   "id": "8647f2de",
   "metadata": {},
   "outputs": [
    {
     "name": "stdout",
     "output_type": "stream",
     "text": [
      "SymbolRecognizer(\n",
      "  (conv1): Conv2d(1, 32, kernel_size=(3, 3), stride=(1, 1))\n",
      "  (conv2): Conv2d(32, 64, kernel_size=(3, 3), stride=(1, 1))\n",
      "  (dropout1): Dropout2d(p=0.25, inplace=False)\n",
      "  (dropout2): Dropout2d(p=0.5, inplace=False)\n",
      "  (fc1): Linear(in_features=9216, out_features=1024, bias=True)\n",
      "  (fc2): Linear(in_features=1024, out_features=256, bias=True)\n",
      "  (fc3): Linear(in_features=256, out_features=62, bias=True)\n",
      "  (Leaky_ReLu): LeakyReLU(negative_slope=0.01)\n",
      ")\n"
     ]
    }
   ],
   "source": [
    "import torch.optim as optim\n",
    "from torch.utils.data import DataLoader, TensorDataset\n",
    "import torch.nn.functional as F\n",
    "\n",
    "class SymbolRecognizer(nn.Module):\n",
    "    def __init__(self):\n",
    "        super(SymbolRecognizer, self).__init__()\n",
    "        self.conv1 = nn.Conv2d(1, 32, 3, 1)\n",
    "        self.conv2 = nn.Conv2d(32, 64, 3, 1)\n",
    "\n",
    "        self.dropout1 = nn.Dropout2d(0.25)\n",
    "        self.dropout2 = nn.Dropout2d(0.5)\n",
    "\n",
    "        self.fc1 = nn.Linear(9216, 1024) \n",
    "        self.fc2 = nn.Linear(1024, 256)\n",
    "        self.fc3 = nn.Linear(256, number_of_symbols)\n",
    "        self.Leaky_ReLu = nn.LeakyReLU()\n",
    "        \n",
    "    def forward(self, x):\n",
    "        x = x.permute(0, 3, 1, 2) #just to fit data from dataset to layers\n",
    "\n",
    "        x = self.conv1(x)\n",
    "        x = F.leaky_relu(x)\n",
    "\n",
    "        x = self.conv2(x)\n",
    "        x = F.leaky_relu(x)\n",
    "\n",
    "        x = F.max_pool2d(x, 2)\n",
    "        x = self.dropout1(x)\n",
    "        x = torch.flatten(x, 1)\n",
    "        x = self.fc1(x)\n",
    "        x = F.leaky_relu(x)\n",
    "        x = self.dropout2(x)\n",
    "        x = self.fc2(x)\n",
    "        x = self.Leaky_ReLu(x)\n",
    "        x = self.fc3(x)\n",
    "        x = self.Leaky_ReLu(x)\n",
    "        # Apply softmax to x\n",
    "        output = F.log_softmax(x, dim=1)\n",
    "        return output\n",
    "    \n",
    "    # Instantiate the neural network\n",
    "model = SymbolRecognizer()\n",
    "print(model)"
   ]
  },
  {
   "cell_type": "code",
   "execution_count": 263,
   "id": "66a3b4b7",
   "metadata": {},
   "outputs": [],
   "source": [
    "from torch.utils.data import TensorDataset, DataLoader\n",
    "# Define the loss function and optimizer\n",
    "criterion = nn.CrossEntropyLoss()\n",
    "optimizer = optim.Adam(model.parameters())\n",
    "\n",
    "# Convert the data and labels to PyTorch datasets\n",
    "train_dataset = TensorDataset(train_data, train_labels)\n",
    "val_dataset = TensorDataset(val_data, val_labels)\n",
    "# Define batch size for training and validation dataloaders\n",
    "batch_size = 64\n",
    "# Create data loaders for training and validation sets\n",
    "train_loader = DataLoader(train_dataset, batch_size=batch_size, shuffle=True,num_workers=10)\n",
    "val_loader = DataLoader(val_dataset, batch_size=batch_size, shuffle=False,num_workers=10)\n",
    "save_every = 2\n",
    "train_iterations = 24\n"
   ]
  },
  {
   "cell_type": "code",
   "execution_count": 264,
   "id": "cb301390",
   "metadata": {},
   "outputs": [
    {
     "name": "stdout",
     "output_type": "stream",
     "text": [
      "8724 \n",
      "Epoch 0 loss: 0.5572591660613658\n",
      "Saving model as model_weights_0.pth\n",
      "8724 \n",
      "Epoch 1 loss: 0.42360185039846127\n",
      "8724 \n",
      "Epoch 2 loss: 0.39611035861224364\n",
      "Saving model as model_weights_2.pth\n",
      "8724 \n",
      "Epoch 3 loss: 0.3787318782666351\n",
      "8724 \n",
      "Epoch 4 loss: 0.36670790167199846\n",
      "Saving model as model_weights_4.pth\n",
      "8724 \n",
      "Epoch 5 loss: 0.3569656314685898\n",
      "8724 \n",
      "Epoch 6 loss: 0.34911873823336\n",
      "Saving model as model_weights_6.pth\n",
      "8724 \n",
      "Epoch 7 loss: 0.34293528306023097\n",
      "8724 \n",
      "Epoch 8 loss: 0.33724939336856147\n",
      "Saving model as model_weights_8.pth\n",
      "8724 \n",
      "Epoch 9 loss: 0.33157135360818196\n",
      "8724 \n",
      "Epoch 10 loss: 0.32654945763441756\n",
      "Saving model as model_weights_10.pth\n",
      "8724 \n",
      "Epoch 11 loss: 0.3232742516512857\n",
      "8724 \n",
      "Epoch 12 loss: 0.3194895427975067\n",
      "Saving model as model_weights_12.pth\n",
      "8724 \n",
      "Epoch 13 loss: 0.31485134865416153\n",
      "8724 \n",
      "Epoch 14 loss: 0.3109959363604343\n",
      "Saving model as model_weights_14.pth\n",
      "8724 \n",
      "Epoch 15 loss: 0.3083239507137192\n",
      "8724 \n",
      "Epoch 16 loss: 0.3060332304948039\n",
      "Saving model as model_weights_16.pth\n",
      "8724 \n",
      "Epoch 17 loss: 0.30156544360612386\n",
      "8724 \n",
      "Epoch 18 loss: 0.3012885175154339\n",
      "Saving model as model_weights_18.pth\n",
      "8724 \n",
      "Epoch 19 loss: 0.297334244006172\n",
      "8724 \n",
      "Epoch 20 loss: 0.29473242488836493\n",
      "Saving model as model_weights_20.pth\n",
      "8724 \n",
      "Epoch 21 loss: 0.29162931487604676\n",
      "8724 \n",
      "Epoch 22 loss: 0.2888662659216747\n",
      "Saving model as model_weights_22.pth\n",
      "8724 \n",
      "Epoch 23 loss: 0.2862157795730882\n"
     ]
    }
   ],
   "source": [
    "# Train the neural network\n",
    "for epoch in range(train_iterations):\n",
    "    running_loss = 0.0\n",
    "    for i, (inputs, labels) in enumerate(train_loader):\n",
    "        print (f'{i}', end = ' \\r'),\n",
    "        optimizer.zero_grad()\n",
    "        outputs = model(inputs)\n",
    "        labels = labels.squeeze(-1)\n",
    "        loss = criterion(outputs, labels)\n",
    "        loss.backward()\n",
    "        optimizer.step()\n",
    "        running_loss += loss.item()\n",
    "    print(f\"\\nEpoch {epoch} loss: {running_loss/len(train_loader)}\")\n",
    "    if (epoch % save_every == 0):\n",
    "        model_file_name = f'model_weights_{epoch}.pth'\n",
    "        print(f'Saving model as {model_file_name}')\n",
    "        torch.save(model, model_file_name)\n",
    "torch.save(model, f'model_weights_{train_iterations}.pth')"
   ]
  },
  {
   "cell_type": "code",
   "execution_count": 270,
   "id": "f7ddfe55",
   "metadata": {},
   "outputs": [
    {
     "name": "stdout",
     "output_type": "stream",
     "text": [
      "Validation Loss: 0.3156, Validation Accuracy: 87.97%\n"
     ]
    }
   ],
   "source": [
    "# Set the model to evaluation mode\n",
    "model.eval()\n",
    "\n",
    "# Initialize the total loss and accuracy\n",
    "total_loss = 0\n",
    "total_correct = 0\n",
    "total_samples = 0\n",
    "\n",
    "# Disable gradient calculation\n",
    "with torch.no_grad():\n",
    "    # Loop over the validation set\n",
    "    for batch_data, batch_labels in val_loader:\n",
    "        # Move the data and labels to the device\n",
    "        batch_data = batch_data.to(device)\n",
    "        batch_labels = batch_labels.to(device)\n",
    "\n",
    "        # Forward pass\n",
    "        outputs = model(batch_data)\n",
    "        batch_labels = torch.squeeze(batch_labels)\n",
    "        # Calculate the loss\n",
    "        loss = criterion(outputs, batch_labels)\n",
    "\n",
    "        # Accumulate the loss\n",
    "        total_loss += loss.item() * batch_data.size(0)\n",
    "\n",
    "        # Get the predicted class\n",
    "        _, predicted = torch.max(outputs.data, 1)\n",
    "\n",
    "        # Count the number of correct predictions\n",
    "        total_correct += (predicted == batch_labels).sum().item()\n",
    "\n",
    "        # Increment the total number of samples\n",
    "        total_samples += batch_data.size(0)\n",
    "\n",
    "# Calculate the average loss and accuracy over the validation set\n",
    "average_loss = total_loss / total_samples\n",
    "accuracy = total_correct / total_samples\n",
    "\n",
    "# Print the results\n",
    "print('Validation Loss: {:.4f}, Validation Accuracy: {:.2f}%'.format(average_loss, accuracy * 100))"
   ]
  },
  {
   "cell_type": "code",
   "execution_count": 254,
   "id": "c17e5fec",
   "metadata": {},
   "outputs": [],
   "source": [
    "def evaluate(model_file, val_loader):\n",
    "    # Load the neural network from file\n",
    "    model = torch.load(model_file)\n",
    "    print('Testing model ' + model_file)\n",
    "    # Get the name of the model\n",
    "    model_name = model_file.split(\"/\")[-1]\n",
    "    \n",
    "    # Evaluate the neural network on the testing set\n",
    "    total_loss = 0\n",
    "    total_correct = 0\n",
    "    total_samples = 0\n",
    "    with torch.no_grad():\n",
    "            # Loop over the validation set\n",
    "        for batch_data, batch_labels in val_loader:\n",
    "            # Move the data and labels to the device\n",
    "            batch_data = batch_data.to(device)\n",
    "            batch_labels = batch_labels.to(device)\n",
    "\n",
    "            # Forward pass\n",
    "            outputs = model(batch_data)\n",
    "            batch_labels = torch.squeeze(batch_labels)\n",
    "            # Calculate the loss\n",
    "            loss = criterion(outputs, batch_labels)\n",
    "\n",
    "            # Accumulate the loss\n",
    "            total_loss += loss.item() * batch_data.size(0)\n",
    "\n",
    "            # Get the predicted class\n",
    "            _, predicted = torch.max(outputs.data, 1)\n",
    "\n",
    "            # Count the number of correct predictions\n",
    "            total_correct += (predicted == batch_labels).sum().item()\n",
    "\n",
    "            # Increment the total number of samples\n",
    "            total_samples += batch_data.size(0)\n",
    "\n",
    "# Calculate the average loss and accuracy over the validation set\n",
    "    average_loss = total_loss / total_samples\n",
    "    accuracy = total_correct / total_samples\n",
    "\n",
    "# Print the results\n",
    "    print('Validation Loss: {:.4f}, Validation Accuracy: {:.2f}%'.format(average_loss, accuracy * 100))\n",
    "    return accuracy"
   ]
  },
  {
   "cell_type": "code",
   "execution_count": 272,
   "id": "3033e67e",
   "metadata": {},
   "outputs": [
    {
     "name": "stdout",
     "output_type": "stream",
     "text": [
      "Testing model model_weights_0.pth\n",
      "Validation Loss: 0.4498, Validation Accuracy: 84.04%\n",
      "Testing model model_weights_2.pth\n",
      "Validation Loss: 0.4191, Validation Accuracy: 85.08%\n",
      "Testing model model_weights_4.pth\n",
      "Validation Loss: 0.4180, Validation Accuracy: 85.43%\n",
      "Testing model model_weights_6.pth\n",
      "Validation Loss: 0.4220, Validation Accuracy: 85.40%\n",
      "Testing model model_weights_8.pth\n",
      "Validation Loss: 0.4223, Validation Accuracy: 85.48%\n",
      "Testing model model_weights_10.pth\n",
      "Validation Loss: 0.4330, Validation Accuracy: 85.30%\n",
      "Testing model model_weights_12.pth\n",
      "Validation Loss: 0.4415, Validation Accuracy: 85.14%\n",
      "Testing model model_weights_14.pth\n",
      "Validation Loss: 0.4605, Validation Accuracy: 85.14%\n",
      "Testing model model_weights_16.pth\n",
      "Validation Loss: 0.4678, Validation Accuracy: 85.37%\n",
      "Testing model model_weights_18.pth\n",
      "Validation Loss: 0.4552, Validation Accuracy: 85.12%\n",
      "Testing model model_weights_20.pth\n",
      "Validation Loss: 0.4985, Validation Accuracy: 85.02%\n",
      "Testing model model_weights_22.pth\n",
      "Validation Loss: 0.5023, Validation Accuracy: 84.94%\n"
     ]
    }
   ],
   "source": [
    "for i in range(train_iterations):\n",
    "    if (i % save_every == 0):\n",
    "        #print(i)\n",
    "        evaluate(f'model_weights_{i}.pth',val_loader)"
   ]
  },
  {
   "cell_type": "code",
   "execution_count": 225,
   "id": "8cc1e7fd",
   "metadata": {},
   "outputs": [],
   "source": [
    "submission_data = torch.from_numpy(test_data)"
   ]
  },
  {
   "cell_type": "code",
   "execution_count": 267,
   "id": "295785f3",
   "metadata": {},
   "outputs": [],
   "source": [
    "model = torch.load(\"model_weights_8.pth\")"
   ]
  },
  {
   "cell_type": "code",
   "execution_count": 268,
   "id": "d8f11b32",
   "metadata": {},
   "outputs": [],
   "source": [
    "import pandas as pd\n"
   ]
  },
  {
   "cell_type": "code",
   "execution_count": 269,
   "id": "b7fc025f",
   "metadata": {},
   "outputs": [],
   "source": [
    "all_predictions = []\n",
    "submission_loader = DataLoader(submission_data, batch_size=1, shuffle=False,num_workers=8)\n",
    "with torch.no_grad():\n",
    "    for i, (inputs) in enumerate(submission_loader):\n",
    "        outputs = model(inputs)\n",
    "        _,predicted = torch.max(outputs.data, 1)\n",
    "        all_predictions.extend(predicted.numpy())\n",
    "# Save the predictions to a new CSV file\n",
    "image_ids = [i for i in range(len(all_predictions))]\n",
    "df = pd.DataFrame({'Id': image_ids, 'Category': all_predictions})\n",
    "df.to_csv('My_model_predictions.csv', index=False)"
   ]
  },
  {
   "cell_type": "code",
   "execution_count": null,
   "id": "1713f54b",
   "metadata": {},
   "outputs": [],
   "source": []
  }
 ],
 "metadata": {
  "kernelspec": {
   "display_name": "Python 3 (ipykernel)",
   "language": "python",
   "name": "python3"
  },
  "language_info": {
   "codemirror_mode": {
    "name": "ipython",
    "version": 3
   },
   "file_extension": ".py",
   "mimetype": "text/x-python",
   "name": "python",
   "nbconvert_exporter": "python",
   "pygments_lexer": "ipython3",
   "version": "3.10.9"
  }
 },
 "nbformat": 4,
 "nbformat_minor": 5
}
